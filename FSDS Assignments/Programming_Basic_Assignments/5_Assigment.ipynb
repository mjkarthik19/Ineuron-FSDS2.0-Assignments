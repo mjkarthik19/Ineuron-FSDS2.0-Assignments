{
 "cells": [
  {
   "cell_type": "markdown",
   "id": "4de4d44f",
   "metadata": {},
   "source": [
    "1. Write a Python Program to find LCM ?"
   ]
  },
  {
   "cell_type": "code",
   "execution_count": 2,
   "id": "861999d9",
   "metadata": {},
   "outputs": [
    {
     "name": "stdout",
     "output_type": "stream",
     "text": [
      "The LCM of 8,9 is 72\n",
      "The LCM of 3,12 is 12\n",
      "The LCM of 5,100 is 100\n"
     ]
    }
   ],
   "source": [
    "def findTheLcm(x_term,y_term):\n",
    "    if x_term > y_term:\n",
    "        greater = x_term\n",
    "    else:\n",
    "        greater = x_term\n",
    "    while True:\n",
    "        if((greater%x_term == 0) and (greater%y_term == 0)):\n",
    "            lcm = greater\n",
    "            break\n",
    "        else:\n",
    "            greater +=1\n",
    "    print(f'The LCM of {x_term},{y_term} is {lcm}')\n",
    "\n",
    "findTheLcm(8,9)\n",
    "findTheLcm(3,12)\n",
    "findTheLcm(5,100)"
   ]
  },
  {
   "cell_type": "markdown",
   "id": "96a4f390",
   "metadata": {},
   "source": [
    "2. Write a Python Program to find HCF ?\n"
   ]
  },
  {
   "cell_type": "code",
   "execution_count": 3,
   "id": "faf31c02",
   "metadata": {},
   "outputs": [
    {
     "name": "stdout",
     "output_type": "stream",
     "text": [
      "The HCF of 6,12 is 6\n",
      "The HCF of 2,30 is 2\n",
      "The HCF of 10,23 is 1\n"
     ]
    }
   ],
   "source": [
    "def findTheHcf(x_term,y_term):\n",
    "    if x_term>y_term:\n",
    "        smaller = y_term\n",
    "    else:\n",
    "        smaller = x_term\n",
    "    for ele in range(1,smaller+1):\n",
    "        if((x_term%ele == 0) and (y_term%ele == 0)):\n",
    "            hcf = ele\n",
    "    print(f'The HCF of {x_term},{y_term} is {hcf}')\n",
    "\n",
    "findTheHcf(6,12)\n",
    "findTheHcf(2,30)\n",
    "findTheHcf(10,23)"
   ]
  },
  {
   "cell_type": "markdown",
   "id": "19616ae7",
   "metadata": {},
   "source": [
    "3. Write a Python Program to Convert Decimal to Binary, Octal and Hexadecimal ?"
   ]
  },
  {
   "cell_type": "markdown",
   "id": "4f30abce",
   "metadata": {},
   "source": [
    "3. Write a Python Program to Convert Decimal to Binary, Octal and Hexadecimal ?"
   ]
  },
  {
   "cell_type": "code",
   "execution_count": 4,
   "id": "f6eeaafd",
   "metadata": {},
   "outputs": [
    {
     "name": "stdout",
     "output_type": "stream",
     "text": [
      "Enter a Number: 3224324\n",
      "Binary Number -> 0b1100010011001100000100\n",
      "Octal Number -> 0o14231404\n",
      "Hexadecimal Number -> 0x313304\n"
     ]
    }
   ],
   "source": [
    "def DecimalToOther():\n",
    "    num = int(input('Enter a Number: '))\n",
    "    print(f'Binary Number -> {bin(num)}')\n",
    "    print(f'Octal Number -> {oct(num)}')    \n",
    "    print(f'Hexadecimal Number -> {hex(num)}')    \n",
    "\n",
    "DecimalToOther()"
   ]
  },
  {
   "cell_type": "markdown",
   "id": "befc2672",
   "metadata": {},
   "source": [
    "4. Write a Python Program to Find the ASCII value of a Character ?\n"
   ]
  },
  {
   "cell_type": "code",
   "execution_count": 5,
   "id": "b9012a52",
   "metadata": {},
   "outputs": [
    {
     "name": "stdout",
     "output_type": "stream",
     "text": [
      "Enter a Character: #\n",
      "Ascii Character of # is 35\n"
     ]
    }
   ],
   "source": [
    "def charToAscii():\n",
    "    char = input('Enter a Character: ')\n",
    "    if len(char) > 1:\n",
    "        print('Please Enter a Single Character')\n",
    "    else:\n",
    "        print(f'Ascii Character of {char} is {ord(char)}')\n",
    "\n",
    "charToAscii()"
   ]
  },
  {
   "cell_type": "markdown",
   "id": "001db390",
   "metadata": {},
   "source": [
    "5. Write a Python Program to Make a Simple Calculator with 4 Basic Mathematical operations ?"
   ]
  },
  {
   "cell_type": "code",
   "execution_count": 6,
   "id": "77c5f193",
   "metadata": {},
   "outputs": [
    {
     "name": "stdout",
     "output_type": "stream",
     "text": [
      "Select a Arithmetic Operation:         \n",
      "1.Addition(+)        \n",
      "2.Division(-)        \n",
      "2.Multiplication(*)        \n",
      "4.Division(/)        \n",
      "3.Stop(0)\n",
      "\n",
      "Enter a arithmetic operation -> *\n",
      "\n",
      "Enter 1st Number: 4\n",
      "Enter 2nd Number: 7\n",
      "4*7=28\n",
      "\n",
      "Enter a arithmetic operation -> /\n",
      "\n",
      "Enter 1st Number: 23\n",
      "Enter 2nd Number: 21\n",
      "23/21=1.0952380952380953\n",
      "\n",
      "Enter a arithmetic operation -> 0\n",
      "Program Stopped successfully\n"
     ]
    }
   ],
   "source": [
    "import operator\n",
    "\n",
    "ops = { \"+\": operator.add, \"-\": operator.sub, \"*\":operator.mul, \"/\":operator.truediv } \n",
    "\n",
    "print('Select a Arithmetic Operation: \\\n",
    "        \\n1.Addition(+)\\\n",
    "        \\n2.Division(-)\\\n",
    "        \\n2.Multiplication(*)\\\n",
    "        \\n4.Division(/)\\\n",
    "        \\n3.Stop(0)\\n')\n",
    "   \n",
    "\n",
    "while True:\n",
    "    operator = input('Enter a arithmetic operation -> ')\n",
    "    if operator == '0':\n",
    "        print(\"Program Stopped successfully\")\n",
    "        break\n",
    "    elif operator not in ['+','-','*','/']:\n",
    "        print(\"Please enter a valid operator\")\n",
    "    else:\n",
    "        num_1 = int(input('\\nEnter 1st Number: '))\n",
    "        num_2 = int(input('Enter 2nd Number: '))\n",
    "        print(f'{num_1}{operator}{num_2}={ops[operator](num_1,num_2)}\\n')"
   ]
  },
  {
   "cell_type": "code",
   "execution_count": null,
   "id": "d35a2f6f",
   "metadata": {},
   "outputs": [],
   "source": []
  }
 ],
 "metadata": {
  "kernelspec": {
   "display_name": "Python 3 (ipykernel)",
   "language": "python",
   "name": "python3"
  },
  "language_info": {
   "codemirror_mode": {
    "name": "ipython",
    "version": 3
   },
   "file_extension": ".py",
   "mimetype": "text/x-python",
   "name": "python",
   "nbconvert_exporter": "python",
   "pygments_lexer": "ipython3",
   "version": "3.9.7"
  }
 },
 "nbformat": 4,
 "nbformat_minor": 5
}
