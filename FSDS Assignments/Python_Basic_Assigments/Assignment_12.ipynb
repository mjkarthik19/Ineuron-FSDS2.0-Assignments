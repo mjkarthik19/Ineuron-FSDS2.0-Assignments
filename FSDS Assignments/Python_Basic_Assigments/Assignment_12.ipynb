{
 "cells": [
  {
   "cell_type": "markdown",
   "id": "0fbcdbcb",
   "metadata": {},
   "source": [
    "1. In what modes should the PdfFileReader() and PdfFileWriter() File objects will be opened?\n",
    "\n",
    "    Ans: For PdfFileReader() file objects should be opened in rb -> read binary mode, Whereas for PdfFileWriter() file objects should be opened in wb -> write binary mode."
   ]
  },
  {
   "cell_type": "markdown",
   "id": "5e273812",
   "metadata": {},
   "source": [
    "2. From a PdfFileReader object, how do you get a Page object for page 5?\n",
    "\n",
    "    Ans: PdfFileReader class provides a method called getPage(page_no) to get a page object."
   ]
  },
  {
   "cell_type": "code",
   "execution_count": 1,
   "id": "be653f42",
   "metadata": {},
   "outputs": [
    {
     "name": "stdout",
     "output_type": "stream",
     "text": [
      "0\n",
      "1\n"
     ]
    }
   ],
   "source": [
    "# Example Code:\n",
    "from PyPDF2 import PdfFileReader\n",
    "pdf_reader = PdfFileReader(\"D:\\Downloads\\sample.pdf\")\n",
    "for i in range(len(pdf_reader.pages)):\n",
    "    print(i)    "
   ]
  },
  {
   "cell_type": "markdown",
   "id": "ef53286d",
   "metadata": {},
   "source": [
    "3. What PdfFileReader variable stores the number of pages in the PDF document?\n",
    "\n",
    "    Ans: getNumPages() method of PdfFileReader class stores the no pages in a PDF document"
   ]
  },
  {
   "cell_type": "code",
   "execution_count": 2,
   "id": "10f0e801",
   "metadata": {},
   "outputs": [
    {
     "name": "stdout",
     "output_type": "stream",
     "text": [
      "2\n"
     ]
    }
   ],
   "source": [
    "#Example Code:\n",
    "from PyPDF2 import PdfFileReader\n",
    "pdf_reader = PdfFileReader(\"D:\\Downloads\\sample.pdf\")\n",
    "print(pdf_reader.getNumPages()) # Prints the no of pages in a input document"
   ]
  },
  {
   "cell_type": "markdown",
   "id": "99989b23",
   "metadata": {},
   "source": [
    "4. If a PdfFileReader object’s PDF is encrypted with the password swordfish, what must you do before you can obtain Page objects from it?\n",
    "\n",
    "    Ans: If a PdfFileReader object’s PDF is encrypted with the password swordfish and you're not aware of it. first read the Pdf using the PdfFileReader Class. PdfFileReader class provides a attribute called isEncrypted to check whether a pdf is encrypted or not. the method returns true if a pdf is encrypted and vice versa.\n",
    "    \n",
    "    If pdf is encrypted use the decrypt() method provided by PdfFileReader class first then try to read the contents/pages of the pdf, else PyPDF2 will raise the following error PyPDF2.utils.PdfReadError: file has not been decrypted"
   ]
  },
  {
   "cell_type": "code",
   "execution_count": 27,
   "id": "5fec364e",
   "metadata": {},
   "outputs": [
    {
     "data": {
      "text/plain": [
       "b'%PDF-1.3\\r\\n%\\xe2\\xe3\\xcf\\xd3\\r\\n\\r\\n1 0 obj\\r\\n<<\\r\\n/Type /Catalog\\r\\n/Outlines 2 0 R\\r\\n/Pages 3 0 R\\r\\n>>\\r\\nendobj\\r\\n\\r\\n2 0 obj\\r\\n<<\\r\\n/Type /Outlines\\r\\n/Count 0\\r\\n>>\\r\\nendobj\\r\\n\\r\\n3 0 obj\\r\\n<<\\r\\n/Type /Pages\\r\\n/Count 2\\r\\n/Kids [ 4 0 R 6 0 R ] \\r\\n>>\\r\\nendobj\\r\\n\\r\\n4 0 obj\\r\\n<<\\r\\n/Type /Page\\r\\n/Parent 3 0 R\\r\\n/Resources <<\\r\\n/Font <<\\r\\n/F1 9 0 R \\r\\n>>\\r\\n/ProcSet 8 0 R\\r\\n>>\\r\\n/MediaBox [0 0 612.0000 792.0000]\\r\\n/Contents 5 0 R\\r\\n>>\\r\\nendobj\\r\\n\\r\\n5 0 obj\\r\\n<< /Length 1074 >>\\r\\nstream\\r\\n2 J\\r\\nBT\\r\\n0 0 0 rg\\r\\n/F1 0027 Tf\\r\\n57.3750 722.2800 Td\\r\\n( A Simple PDF File ) Tj\\r\\nET\\r\\nBT\\r\\n/F1 0010 Tf\\r\\n69.2500 688.6080 Td\\r\\n( This is a small demonstration .pdf file - ) Tj\\r\\nET\\r\\nBT\\r\\n/F1 0010 Tf\\r\\n69.2500 664.7040 Td\\r\\n( just for use in the Virtual Mechanics tutorials. More text. And more ) Tj\\r\\nET\\r\\nBT\\r\\n/F1 0010 Tf\\r\\n69.2500 652.7520 Td\\r\\n( text. And more text. And more text. And more text. ) Tj\\r\\nET\\r\\nBT\\r\\n/F1 0010 Tf\\r\\n69.2500 628.8480 Td\\r\\n( And more text. And more text. And more text. And more text. And more ) Tj\\r\\nET\\r\\nBT\\r\\n/F1 0010 Tf\\r\\n69.2500 616.8960 Td\\r\\n( text. And more text. Boring, zzzzz. And more text. And more text. And ) Tj\\r\\nET\\r\\nBT\\r\\n/F1 0010 Tf\\r\\n69.2500 604.9440 Td\\r\\n( more text. And more text. And more text. And more text. And more text. ) Tj\\r\\nET\\r\\nBT\\r\\n/F1 0010 Tf\\r\\n69.2500 592.9920 Td\\r\\n( And more text. And more text. ) Tj\\r\\nET\\r\\nBT\\r\\n/F1 0010 Tf\\r\\n69.2500 569.0880 Td\\r\\n( And more text. And more text. And more text. And more text. And more ) Tj\\r\\nET\\r\\nBT\\r\\n/F1 0010 Tf\\r\\n69.2500 557.1360 Td\\r\\n( text. And more text. And more text. Even more. Continued on page 2 ...) Tj\\r\\nET\\r\\nendstream\\r\\nendobj\\r\\n\\r\\n6 0 obj\\r\\n<<\\r\\n/Type /Page\\r\\n/Parent 3 0 R\\r\\n/Resources <<\\r\\n/Font <<\\r\\n/F1 9 0 R \\r\\n>>\\r\\n/ProcSet 8 0 R\\r\\n>>\\r\\n/MediaBox [0 0 612.0000 792.0000]\\r\\n/Contents 7 0 R\\r\\n>>\\r\\nendobj\\r\\n\\r\\n7 0 obj\\r\\n<< /Length 676 >>\\r\\nstream\\r\\n2 J\\r\\nBT\\r\\n0 0 0 rg\\r\\n/F1 0027 Tf\\r\\n57.3750 722.2800 Td\\r\\n( Simple PDF File 2 ) Tj\\r\\nET\\r\\nBT\\r\\n/F1 0010 Tf\\r\\n69.2500 688.6080 Td\\r\\n( ...continued from page 1. Yet more text. And more text. And more text. ) Tj\\r\\nET\\r\\nBT\\r\\n/F1 0010 Tf\\r\\n69.2500 676.6560 Td\\r\\n( And more text. And more text. And more text. And more text. And more ) Tj\\r\\nET\\r\\nBT\\r\\n/F1 0010 Tf\\r\\n69.2500 664.7040 Td\\r\\n( text. Oh, how boring typing this stuff. But not as boring as watching ) Tj\\r\\nET\\r\\nBT\\r\\n/F1 0010 Tf\\r\\n69.2500 652.7520 Td\\r\\n( paint dry. And more text. And more text. And more text. And more text. ) Tj\\r\\nET\\r\\nBT\\r\\n/F1 0010 Tf\\r\\n69.2500 640.8000 Td\\r\\n( Boring.  More, a little more text. The end, and just as well. ) Tj\\r\\nET\\r\\nendstream\\r\\nendobj\\r\\n\\r\\n8 0 obj\\r\\n[/PDF /Text]\\r\\nendobj\\r\\n\\r\\n9 0 obj\\r\\n<<\\r\\n/Type /Font\\r\\n/Subtype /Type1\\r\\n/Name /F1\\r\\n/BaseFont /Helvetica\\r\\n/Encoding /WinAnsiEncoding\\r\\n>>\\r\\nendobj\\r\\n\\r\\n10 0 obj\\r\\n<<\\r\\n/Creator (Rave \\\\(http://www.nevrona.com/rave\\\\))\\r\\n/Producer (Nevrona Designs)\\r\\n/CreationDate (D:20060301072826)\\r\\n>>\\r\\nendobj\\r\\n\\r\\nxref\\r\\n0 11\\r\\n0000000000 65535 f\\r\\n0000000019 00000 n\\r\\n0000000093 00000 n\\r\\n0000000147 00000 n\\r\\n0000000222 00000 n\\r\\n0000000390 00000 n\\r\\n0000001522 00000 n\\r\\n0000001690 00000 n\\r\\n0000002423 00000 n\\r\\n0000002456 00000 n\\r\\n0000002574 00000 n\\r\\n\\r\\ntrailer\\r\\n<<\\r\\n/Size 11\\r\\n/Root 1 0 R\\r\\n/Info 10 0 R\\r\\n>>\\r\\n\\r\\nstartxref\\r\\n2714\\r\\n%%EOF\\r\\n'"
      ]
     },
     "execution_count": 27,
     "metadata": {},
     "output_type": "execute_result"
    }
   ],
   "source": [
    "from cryptography.fernet import Fernet\n",
    "\n",
    "f = Fernet(key)\n",
    "with open('D:\\Downloads\\sample_1.pdf','rb') as encrypted_file:\n",
    "    encrpyted = encrypted_file.read()\n",
    "decrpyted = f.decrypt(encrypted)\n",
    "decrpyted"
   ]
  },
  {
   "cell_type": "markdown",
   "id": "a3e638cb",
   "metadata": {},
   "source": [
    "5. What methods do you use to rotate a page?\n",
    "\n",
    "    Ans: PyPDF2 Package provides 2 methods to rotate a page:\n",
    "\n",
    "    1)rotateClockWise() -> For Clockwise rotation\n",
    "    2)rotateCounterClockWise() -> For Counter Clockwise rotation\n",
    "    The PyPDF2 package only allows you to rotate a page in increments of 90 degrees. You will receive an AssertionError otherwise."
   ]
  },
  {
   "cell_type": "markdown",
   "id": "d28ee432",
   "metadata": {},
   "source": [
    "6. What is the difference between a Run object and a Paragraph object?\n",
    "\n",
    "    Ans: The structure of a document is represented by three different data types in python-Docx. At the highest level, a Document object represents the entire document. The Document object contains a list of Paragraph objects for the paragraphs in the document. (A new paragraph begins whenever the user presses ENTER or RETURN while typing in a Word document.) Each of these Paragraph objects contains a list of one or more Run objects.\n",
    "\n",
    "    The text in a Word document is more than just a string. It has font, size, color, and other styling information associated with it. A style in Word is a collection of these attributes. A Run object is a contiguous run of text with the same style. A new Run object is needed whenever the text style changes."
   ]
  },
  {
   "cell_type": "markdown",
   "id": "b283b6ff",
   "metadata": {},
   "source": [
    "7. How do you obtain a list of Paragraph objects for a Document object that’s stored in a variable named doc?"
   ]
  },
  {
   "cell_type": "code",
   "execution_count": 37,
   "id": "18eb549f",
   "metadata": {},
   "outputs": [
    {
     "name": "stdout",
     "output_type": "stream",
     "text": [
      "[<docx.text.paragraph.Paragraph object at 0x000001E762EAC550>, <docx.text.paragraph.Paragraph object at 0x000001E762EAC760>, <docx.text.paragraph.Paragraph object at 0x000001E762EAC7F0>, <docx.text.paragraph.Paragraph object at 0x000001E762EAC7C0>, <docx.text.paragraph.Paragraph object at 0x000001E762EAC370>, <docx.text.paragraph.Paragraph object at 0x000001E762EAC3D0>, <docx.text.paragraph.Paragraph object at 0x000001E762EAC430>, <docx.text.paragraph.Paragraph object at 0x000001E762EAC610>, <docx.text.paragraph.Paragraph object at 0x000001E762EAC670>, <docx.text.paragraph.Paragraph object at 0x000001E762EAC6D0>, <docx.text.paragraph.Paragraph object at 0x000001E762EAC940>, <docx.text.paragraph.Paragraph object at 0x000001E762EAC790>, <docx.text.paragraph.Paragraph object at 0x000001E762EAC970>, <docx.text.paragraph.Paragraph object at 0x000001E762EAC9A0>, <docx.text.paragraph.Paragraph object at 0x000001E762EACA60>, <docx.text.paragraph.Paragraph object at 0x000001E762EACAC0>, <docx.text.paragraph.Paragraph object at 0x000001E762EACB20>, <docx.text.paragraph.Paragraph object at 0x000001E762EAC5B0>, <docx.text.paragraph.Paragraph object at 0x000001E762EACBE0>, <docx.text.paragraph.Paragraph object at 0x000001E762EAC490>, <docx.text.paragraph.Paragraph object at 0x000001E762EAC4F0>, <docx.text.paragraph.Paragraph object at 0x000001E762EACCA0>, <docx.text.paragraph.Paragraph object at 0x000001E762EAC130>, <docx.text.paragraph.Paragraph object at 0x000001E762EACD60>, <docx.text.paragraph.Paragraph object at 0x000001E762EACD00>, <docx.text.paragraph.Paragraph object at 0x000001E762EACE20>, <docx.text.paragraph.Paragraph object at 0x000001E762EACDC0>, <docx.text.paragraph.Paragraph object at 0x000001E762EACEE0>, <docx.text.paragraph.Paragraph object at 0x000001E762EACE80>, <docx.text.paragraph.Paragraph object at 0x000001E762EACFA0>, <docx.text.paragraph.Paragraph object at 0x000001E762EACF40>, <docx.text.paragraph.Paragraph object at 0x000001E762EB9070>, <docx.text.paragraph.Paragraph object at 0x000001E762EB90D0>, <docx.text.paragraph.Paragraph object at 0x000001E762EB90A0>, <docx.text.paragraph.Paragraph object at 0x000001E762EB9130>, <docx.text.paragraph.Paragraph object at 0x000001E762EB92B0>, <docx.text.paragraph.Paragraph object at 0x000001E762EB9190>, <docx.text.paragraph.Paragraph object at 0x000001E762EB93A0>, <docx.text.paragraph.Paragraph object at 0x000001E762EB9310>, <docx.text.paragraph.Paragraph object at 0x000001E762EB92E0>, <docx.text.paragraph.Paragraph object at 0x000001E762EB9400>, <docx.text.paragraph.Paragraph object at 0x000001E762EB93D0>, <docx.text.paragraph.Paragraph object at 0x000001E762EB9340>, <docx.text.paragraph.Paragraph object at 0x000001E762EB9430>, <docx.text.paragraph.Paragraph object at 0x000001E762EB9640>, <docx.text.paragraph.Paragraph object at 0x000001E762EB9520>, <docx.text.paragraph.Paragraph object at 0x000001E762EB96D0>, <docx.text.paragraph.Paragraph object at 0x000001E762EB94F0>, <docx.text.paragraph.Paragraph object at 0x000001E762EB9790>, <docx.text.paragraph.Paragraph object at 0x000001E762EB9670>, <docx.text.paragraph.Paragraph object at 0x000001E762EB9850>, <docx.text.paragraph.Paragraph object at 0x000001E762EB9730>, <docx.text.paragraph.Paragraph object at 0x000001E762EB9910>, <docx.text.paragraph.Paragraph object at 0x000001E762EB97F0>, <docx.text.paragraph.Paragraph object at 0x000001E762EB9A00>, <docx.text.paragraph.Paragraph object at 0x000001E762EB98B0>, <docx.text.paragraph.Paragraph object at 0x000001E762EB9A90>, <docx.text.paragraph.Paragraph object at 0x000001E762EB9970>, <docx.text.paragraph.Paragraph object at 0x000001E762946790>, <docx.text.paragraph.Paragraph object at 0x000001E7627F7DC0>, <docx.text.paragraph.Paragraph object at 0x000001E7628FF700>, <docx.text.paragraph.Paragraph object at 0x000001E7628FF2E0>, <docx.text.paragraph.Paragraph object at 0x000001E762EC2130>, <docx.text.paragraph.Paragraph object at 0x000001E762EC2190>, <docx.text.paragraph.Paragraph object at 0x000001E762EC21F0>, <docx.text.paragraph.Paragraph object at 0x000001E762EC2250>, <docx.text.paragraph.Paragraph object at 0x000001E762EC22B0>, <docx.text.paragraph.Paragraph object at 0x000001E762EC2310>, <docx.text.paragraph.Paragraph object at 0x000001E762EC2340>, <docx.text.paragraph.Paragraph object at 0x000001E762EC23A0>, <docx.text.paragraph.Paragraph object at 0x000001E762EC2400>, <docx.text.paragraph.Paragraph object at 0x000001E762EC2460>, <docx.text.paragraph.Paragraph object at 0x000001E762EC24C0>, <docx.text.paragraph.Paragraph object at 0x000001E762EC2520>, <docx.text.paragraph.Paragraph object at 0x000001E762EC2580>, <docx.text.paragraph.Paragraph object at 0x000001E762EC25E0>, <docx.text.paragraph.Paragraph object at 0x000001E762EC2640>, <docx.text.paragraph.Paragraph object at 0x000001E762EC26A0>, <docx.text.paragraph.Paragraph object at 0x000001E762EC2700>, <docx.text.paragraph.Paragraph object at 0x000001E762EC2760>, <docx.text.paragraph.Paragraph object at 0x000001E762EC27C0>, <docx.text.paragraph.Paragraph object at 0x000001E762EC2820>, <docx.text.paragraph.Paragraph object at 0x000001E762EC2880>, <docx.text.paragraph.Paragraph object at 0x000001E762EC28E0>, <docx.text.paragraph.Paragraph object at 0x000001E762EC2940>, <docx.text.paragraph.Paragraph object at 0x000001E762EC29A0>, <docx.text.paragraph.Paragraph object at 0x000001E762EC2A00>, <docx.text.paragraph.Paragraph object at 0x000001E762EC2A60>, <docx.text.paragraph.Paragraph object at 0x000001E762EC2AC0>, <docx.text.paragraph.Paragraph object at 0x000001E762EC2B20>]\n",
      "Demonstration of DOCX support in calibre\n",
      "This document demonstrates the ability of the calibre DOCX Input plugin to convert the various typographic features in a Microsoft Word (2007 and newer) document. Convert this document to a modern ebook format, such as AZW3 for Kindles or EPUB for other ebook readers, to see it in action.\n",
      "There is support for images, tables, lists, footnotes, endnotes, links, dropcaps and various types of text and paragraph level formatting.\n",
      "To see the DOCX conversion in action, simply add this file to calibre using the “Add Books” button and then click “Convert”.  Set the output format in the top right corner of the conversion dialog to EPUB or AZW3 and click “OK”.\n",
      "\n",
      "Text Formatting\n",
      "Inline formatting\n",
      "Here, we demonstrate various types of inline text formatting and the use of embedded fonts.\n",
      "Here is some bold, italic, bold-italic, underlined and struck out  text. Then, we have a superscript and a subscript. Now we see some red, green and blue text. Some text with a yellow highlight. Some text in a box. Some text in inverse video.\n",
      "A paragraph with styled text: subtle emphasis  followed by strong text and intense emphasis. This paragraph uses document wide styles for styling rather than inline text properties as demonstrated in the previous paragraph — calibre can handle both with equal ease.\n",
      "Fun with fonts\n",
      "This document has embedded the Ubuntu font family. The body text is in the Ubuntu typeface, here is some text in the Ubuntu Mono typeface, notice how every letter has the same width, even i and m. Every embedded font will automatically be embedded in the output ebook during conversion. \n",
      "Paragraph level formatting\n",
      "You can do crazy things with paragraphs, if the urge strikes you. For instance this paragraph is right aligned and has a right border. It has also been given a light gray background.\n",
      "For the lovers of poetry amongst you, paragraphs with hanging indents, like this often come in handy. You can use hanging indents to ensure that a line of poetry retains its individual identity as a line even when the screen is  too narrow to display it as a single line. Not only does this paragraph have a hanging indent, it is also has an extra top margin, setting it apart from the preceding paragraph.\n",
      "Tables\n",
      "Tables in Word can vary from the extremely simple to the extremely complex. calibre tries to do its best when converting tables. While you may run into trouble with the occasional table, the vast majority of common cases should be converted very well, as demonstrated in this section. Note that for optimum results, when creating tables in Word, you should set their widths using percentages, rather than absolute units.  To the left of this paragraph is a floating two column table with a nice green border and header row.\n",
      "Now let’s look at a fancier table—one with alternating row colors and partial borders. This table is stretched out to take 100% of the available width.\n",
      "\n",
      "Next, we see a table with special formatting in various locations. Notice how the formatting for the header row and sub header rows is preserved.\n",
      "Source: Fictitious data, for illustration purposes only\n",
      "Next, we have something a little more complex, a nested table, i.e. a table inside another table. Additionally, the inner table has some of its cells merged. The table is displayed horizontally centered.\n",
      "\n",
      "We end with a fancy calendar, note how much of the original formatting is preserved. Note that this table will only display correctly on relatively wide screens. In general, very wide tables or tables whose cells have fixed width requirements don’t fare well in ebooks.\n",
      "Structural Elements\n",
      "Miscellaneous structural elements you can add to your document, like footnotes, endnotes, dropcaps and the like. \n",
      "Footnotes & Endnotes\n",
      "Footnotes and endnotes are automatically recognized and both are converted to endnotes, with backlinks for maximum ease of use in ebook devices.\n",
      "Dropcaps\n",
      "D\n",
      "rop caps are used to emphasize the leading paragraph at the start of a section. In Word it is possible to specify how many lines of text a drop-cap should use. Because of limitations in ebook technology, this is not possible when converting.  Instead, the converted drop cap will use font size and line height to simulate the effect as well as possible. While not as good as the original, the result is usually tolerable. This paragraph has a “D” dropcap set to occupy three lines of text with a font size of 58.5 pts. Depending on the screen width and capabilities of the device you view the book on, this dropcap can look anything from perfect to ugly.\n",
      "Links\n",
      "Two kinds of links are possible, those that refer to an external website and those that refer to locations inside the document itself. Both are supported by calibre. For example, here is a link pointing to the . Then we have a link that points back to the section on  in this document.\n",
      "Table of Contents\n",
      "There are two approaches that calibre takes when generating a Table of Contents. The first is if the Word document has a Table of Contents itself. Provided that the Table of Contents uses hyperlinks, calibre will automatically use it. The levels of the Table of Contents are identified by their left indent, so if you want the ebook to have a multi-level Table of Contents, make sure you create a properly indented Table of Contents in Word.\n",
      "If no Table of Contents is found in the document, then a table of contents is automatically generated from the headings in the document. A heading is identified as something that has the Heading 1 or Heading 2, etc. style applied to it. These headings are turned into a Table of Contents with Heading 1 being the topmost level, Heading 2 the second level and so on.\n",
      " You can see the Table of Contents created by calibre by clicking the Table of Contents button in whatever viewer you are using to view the converted ebook. \n",
      "\n",
      "\n",
      "\n",
      "\n",
      "\n",
      "\n",
      "\n",
      "\n",
      "\n",
      "\n",
      "\n",
      "\n",
      "\n",
      "\n",
      "\n",
      "\n",
      "\n",
      "\n",
      "\n",
      "Images\n",
      "Images can be of three main types. Inline images are images that are part of the normal text flow, like this image of a green dot . Inline images do not cause breaks in the text and are usually small in size. The next category of image is a floating image, one that “floats “ on the page and is surrounded by text. Word supports more types of floating images than are possible with current ebook technology, so the conversion maps floating images to simple left and right floats, as you can see with the left and right arrow images on the sides of this paragraph.\n",
      "The final type of image is a “block” image, one that becomes a paragraph on its own and has no text on either side. Below is a centered green dot.\n",
      "Centered images like this are useful for large pictures that should be a focus of attention. \n",
      "Generally, it is not possible to translate the exact positioning of images from a Word document to an ebook. That is because in Word, image positioning is specified in absolute units from the page boundaries.  There is no analogous technology in ebooks, so the conversion will usually end up placing the image either centered or floating close to the point in the text where it was inserted, not necessarily where it appears on the page in Word.\n",
      "Lists\n",
      "All types of lists are supported by the conversion, with the exception of lists that use fancy bullets, these get converted to regular bullets.\n",
      "Bulleted List\n",
      "One\n",
      "Two\n",
      "Numbered List\n",
      "One, with a very long line to demonstrate that the hanging indent for the list is working correctly\n",
      "Two\n",
      "Multi-level Lists\n",
      "One\n",
      "Two\n",
      "Three\n",
      "Four with a very long line to demonstrate that the hanging indent for the list is working correctly.\n",
      "Five\n",
      "Six\n",
      "A Multi-level list with bullets:\n",
      "One\n",
      "Two\n",
      "This bullet uses an image as the bullet item\n",
      "Four\n",
      "Five\n",
      "Continued Lists\n",
      "One\n",
      "Two\n",
      "An interruption in our regularly scheduled listing, for this essential and very relevant public service announcement.\n",
      "We now resume our normal programming\n",
      "Four\n",
      "\n",
      "\n"
     ]
    }
   ],
   "source": [
    "from docx import Document\n",
    "doc = Document(\"D:\\Downloads\\sample1.docx\") # Path of the Docx file\n",
    "print(doc.paragraphs) # Prints the list of Paragraph objects for a Document\n",
    "for paragraph in doc.paragraphs:\n",
    "    print(paragraph.text) # Prints the text in the paragraph"
   ]
  },
  {
   "cell_type": "markdown",
   "id": "3860411f",
   "metadata": {},
   "source": [
    "8. What type of object has bold, underline, italic, strike, and outline variables?\n",
    "\n",
    "    Ans: Run object has bold, underline, italic, strike, and outline variables. The text in a Word document is more than just a string. It has font, size, color, and other styling information associated with it.\n",
    "\n",
    "    A style in Word is a collection of these attributes. A Run object is a contiguous run of text with the same style. A new Run object is needed whenever the text style changes."
   ]
  },
  {
   "cell_type": "markdown",
   "id": "f7693340",
   "metadata": {},
   "source": [
    "9. What is the difference between False, True, and None for the bold variable?"
   ]
  },
  {
   "cell_type": "code",
   "execution_count": 38,
   "id": "487fcff2",
   "metadata": {},
   "outputs": [],
   "source": [
    "bold = True  # Style Set to Bold\n",
    "bold = False # Style Not Set to Bold\n",
    "bold = None # Style is Not Applicable"
   ]
  },
  {
   "cell_type": "markdown",
   "id": "4b1bf2fa",
   "metadata": {},
   "source": [
    "10. How do you create a Document object for a new Word document?"
   ]
  },
  {
   "cell_type": "code",
   "execution_count": 40,
   "id": "8acb4030",
   "metadata": {},
   "outputs": [],
   "source": [
    "from docx import Document\n",
    "document = Document()\n",
    "document.add_paragraph(\"iNeuron FSDS2.0\")\n",
    "document.save('mydocument.docx')"
   ]
  },
  {
   "cell_type": "markdown",
   "id": "69c2754a",
   "metadata": {},
   "source": [
    "11. How do you add a paragraph with the text 'Hello, there!' to a Document object stored in a variable named doc?"
   ]
  },
  {
   "cell_type": "code",
   "execution_count": 41,
   "id": "dd6b8776",
   "metadata": {},
   "outputs": [],
   "source": [
    "from docx import Document\n",
    "doc = Document()\n",
    "doc.add_paragraph('Hello, there!')\n",
    "doc.save('hello.docx')"
   ]
  },
  {
   "cell_type": "markdown",
   "id": "183d75b0",
   "metadata": {},
   "source": [
    "12. What integers represent the levels of headings available in Word documents?\n",
    "\n",
    "Ans: The levels for a heading in a word document can be specified by using the level attribute inside the add_heading method. There are a total of 5 levels statring for 0 t0 4. where level 0 makes a headline with the horizontal line below the text, whereas the heading level 1 is the main heading. Similarly, the other headings are sub-heading with their's font-sizes in decreasing order."
   ]
  },
  {
   "cell_type": "code",
   "execution_count": null,
   "id": "5f3d9525",
   "metadata": {},
   "outputs": [],
   "source": []
  }
 ],
 "metadata": {
  "kernelspec": {
   "display_name": "Python 3 (ipykernel)",
   "language": "python",
   "name": "python3"
  },
  "language_info": {
   "codemirror_mode": {
    "name": "ipython",
    "version": 3
   },
   "file_extension": ".py",
   "mimetype": "text/x-python",
   "name": "python",
   "nbconvert_exporter": "python",
   "pygments_lexer": "ipython3",
   "version": "3.9.7"
  }
 },
 "nbformat": 4,
 "nbformat_minor": 5
}
